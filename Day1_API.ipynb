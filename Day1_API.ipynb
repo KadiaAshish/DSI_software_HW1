{
  "nbformat": 4,
  "nbformat_minor": 0,
  "metadata": {
    "colab": {
      "provenance": []
    },
    "kernelspec": {
      "name": "python3",
      "display_name": "Python 3"
    },
    "language_info": {
      "name": "python"
    }
  },
  "cells": [
    {
      "cell_type": "code",
      "execution_count": 2,
      "metadata": {
        "colab": {
          "base_uri": "https://localhost:8080/"
        },
        "id": "_kgdaSFZB_Ib",
        "outputId": "0908fad1-70ce-416a-c333-99d4c418e6f4"
      },
      "outputs": [
        {
          "output_type": "stream",
          "name": "stdout",
          "text": [
            "200\n",
            "{\"login\":\"KadiaAshish\",\"id\":136939132,\"node_id\":\"U_kgDOCCmGfA\",\"avatar_url\":\"https://avatars.githubusercontent.com/u/136939132?v=4\",\"gravatar_id\":\"\",\"url\":\"https://api.github.com/users/KadiaAshish\",\"html_url\":\"https://github.com/KadiaAshish\",\"followers_url\":\"https://api.github.com/users/KadiaAshish/followers\",\"following_url\":\"https://api.github.com/users/KadiaAshish/following{/other_user}\",\"gists_url\":\"https://api.github.com/users/KadiaAshish/gists{/gist_id}\",\"starred_url\":\"https://api.github.com/users/KadiaAshish/starred{/owner}{/repo}\",\"subscriptions_url\":\"https://api.github.com/users/KadiaAshish/subscriptions\",\"organizations_url\":\"https://api.github.com/users/KadiaAshish/orgs\",\"repos_url\":\"https://api.github.com/users/KadiaAshish/repos\",\"events_url\":\"https://api.github.com/users/KadiaAshish/events{/privacy}\",\"received_events_url\":\"https://api.github.com/users/KadiaAshish/received_events\",\"type\":\"User\",\"site_admin\":false,\"name\":null,\"company\":null,\"blog\":\"\",\"location\":null,\"email\":null,\"hireable\":null,\"bio\":null,\"twitter_username\":null,\"public_repos\":7,\"public_gists\":0,\"followers\":1,\"following\":7,\"created_at\":\"2023-06-18T00:17:03Z\",\"updated_at\":\"2024-01-07T23:22:50Z\"}\n",
            "{'avatar_url': 'https://avatars.githubusercontent.com/u/136939132?v=4',\n",
            " 'bio': None,\n",
            " 'blog': '',\n",
            " 'company': None,\n",
            " 'created_at': '2023-06-18T00:17:03Z',\n",
            " 'email': None,\n",
            " 'events_url': 'https://api.github.com/users/KadiaAshish/events{/privacy}',\n",
            " 'followers': 1,\n",
            " 'followers_url': 'https://api.github.com/users/KadiaAshish/followers',\n",
            " 'following': 7,\n",
            " 'following_url': 'https://api.github.com/users/KadiaAshish/following{/other_user}',\n",
            " 'gists_url': 'https://api.github.com/users/KadiaAshish/gists{/gist_id}',\n",
            " 'gravatar_id': '',\n",
            " 'hireable': None,\n",
            " 'html_url': 'https://github.com/KadiaAshish',\n",
            " 'id': 136939132,\n",
            " 'location': None,\n",
            " 'login': 'KadiaAshish',\n",
            " 'name': None,\n",
            " 'node_id': 'U_kgDOCCmGfA',\n",
            " 'organizations_url': 'https://api.github.com/users/KadiaAshish/orgs',\n",
            " 'public_gists': 0,\n",
            " 'public_repos': 7,\n",
            " 'received_events_url': 'https://api.github.com/users/KadiaAshish/received_events',\n",
            " 'repos_url': 'https://api.github.com/users/KadiaAshish/repos',\n",
            " 'site_admin': False,\n",
            " 'starred_url': 'https://api.github.com/users/KadiaAshish/starred{/owner}{/repo}',\n",
            " 'subscriptions_url': 'https://api.github.com/users/KadiaAshish/subscriptions',\n",
            " 'twitter_username': None,\n",
            " 'type': 'User',\n",
            " 'updated_at': '2024-01-07T23:22:50Z',\n",
            " 'url': 'https://api.github.com/users/KadiaAshish'}\n"
          ]
        }
      ],
      "source": [
        "import requests\n",
        "\n",
        "import json\n",
        "\n",
        "from pprint import pprint\n",
        "\n",
        "\n",
        "\n",
        "# get secret from Colab\n",
        "\n",
        "from google.colab import userdata\n",
        "\n",
        "token = userdata.get('ghtoken')\n",
        "\n",
        "\n",
        "\n",
        "# initialize request parameters\n",
        "\n",
        "url = 'https://api.github.com/user'\n",
        "\n",
        "headers = {'Authorization': 'Bearer ' + token}\n",
        "\n",
        "\n",
        "\n",
        "# send request to GitHub\n",
        "\n",
        "r = requests.get(url, headers=headers)\n",
        "\n",
        "\n",
        "\n",
        "# print initial responses\n",
        "\n",
        "print(r.status_code)\n",
        "\n",
        "print(r.text)\n",
        "\n",
        "\n",
        "\n",
        "r_json = json.loads(r.text)\n",
        "\n",
        "pprint(r_json)"
      ]
    }
  ]
}